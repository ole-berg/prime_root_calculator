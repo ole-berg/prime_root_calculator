{
 "cells": [
  {
   "cell_type": "markdown",
   "source": [
    "# Wie  groß ist der Anteil der Generatoren?"
   ],
   "metadata": {
    "collapsed": false,
    "pycharm": {
     "name": "#%% md\n"
    }
   }
  },
  {
   "cell_type": "code",
   "execution_count": null,
   "outputs": [],
   "source": [
    "from math import sqrt\n",
    "\n",
    "def is_prime(num):\n",
    "    for i in range(2, int(sqrt(num)) + 1):\n",
    "        if (num % i) == 0:\n",
    "            # if factor is found, set flag to True\n",
    "            return False\n",
    "    return True\n",
    "\n",
    "\n",
    "def better_phi(n):\n",
    "    result = n  # Initialize result as n\n",
    "\n",
    "    # Consider all prime factors\n",
    "    # of n and for every prime\n",
    "    # factor p, multiply result with (1 - 1 / p)\n",
    "    p = 2\n",
    "    while p * p <= n:\n",
    "\n",
    "        # Check if p is a\n",
    "        # prime factor.\n",
    "        if n % p == 0:\n",
    "\n",
    "            # If yes, then\n",
    "            # update n and result\n",
    "            while n % p == 0:\n",
    "                n = int(n / p)\n",
    "            result -= int(result / p)\n",
    "        p += 1\n",
    "\n",
    "    # If n has a prime factor\n",
    "    # greater than sqrt(n)\n",
    "    # (There can be at-most\n",
    "    # one such prime factor)\n",
    "    if n > 1:\n",
    "        result -= int(result / n)\n",
    "    return result\n",
    "\n",
    "\n",
    "def printGenerators(upperBoundary):\n",
    "    sum = 0.0\n",
    "    counter = 0\n",
    "    for num in range(3, upperBoundary):\n",
    "        if is_prime(num):\n",
    "            phi = better_phi(num - 1)\n",
    "            print(f'Primzahl: {num}, Generatoren: {phi}')\n",
    "            sum = sum + phi / (num - 1)\n",
    "            counter = counter + 1\n",
    "    print(f'Durchschnittlich sind {round(sum / counter * 100, 2)} % der Elemente Generatoren.')\n",
    "\n",
    "\n",
    "printGenerators(100)"
   ],
   "metadata": {
    "collapsed": false,
    "pycharm": {
     "name": "#%%\n"
    }
   }
  },
  {
   "cell_type": "markdown",
   "source": [
    "# Berechnung der Generatoren"
   ],
   "metadata": {
    "collapsed": false,
    "pycharm": {
     "name": "#%% md\n"
    }
   }
  },
  {
   "cell_type": "code",
   "execution_count": null,
   "outputs": [],
   "source": [
    "from math import gcd\n",
    "\n",
    "\n",
    "def primitiveroots(modulo):\n",
    "    coprime_set = {num for num in range(1, modulo) if gcd(num, modulo) == 1}\n",
    "    return [g for g in range(1, modulo) if coprime_set == {pow(g, powers, modulo) for powers in range(1, modulo)}]\n",
    "\n",
    "\n",
    "def printroots(upperboundary):\n",
    "    for n in range(3, upperboundary):\n",
    "        if is_prime(n):\n",
    "            roots = primitiveroots(n)\n",
    "            print(f'Die {len(roots)} Generatoren der Primzahl {n}: {roots}')\n",
    "\n",
    "\n",
    "printroots(100)"
   ],
   "metadata": {
    "collapsed": false,
    "pycharm": {
     "name": "#%%\n"
    }
   }
  },
  {
   "cell_type": "markdown",
   "source": [
    "# Visualisierung der Generatoren-Verteilung"
   ],
   "metadata": {
    "collapsed": false,
    "pycharm": {
     "name": "#%% md\n"
    }
   }
  },
  {
   "cell_type": "code",
   "execution_count": null,
   "outputs": [],
   "source": [
    "from math import gcd\n",
    "import matplotlib.pyplot as plt\n",
    "\n",
    "def rootdistribution(upperboundary):\n",
    "    values = []\n",
    "    for n in range(3, upperboundary):\n",
    "        roots = primitiveroots(n)\n",
    "        roots = [x / float(n) for x in roots]\n",
    "        values += roots\n",
    "    return values\n",
    "plt.rcParams.update({'figure.figsize':(7,5), 'figure.dpi':100})\n",
    "plt.hist(rootdistribution(300), bins=25)\n",
    "plt.gca().set(title='Generatoren-Verteilung', ylabel='Häufigkeit')"
   ],
   "metadata": {
    "collapsed": false,
    "pycharm": {
     "name": "#%%\n"
    }
   }
  },
  {
   "cell_type": "code",
   "execution_count": null,
   "outputs": [],
   "source": [],
   "metadata": {
    "collapsed": false,
    "pycharm": {
     "name": "#%%\n"
    }
   }
  }
 ],
 "metadata": {
  "kernelspec": {
   "display_name": "Python 3",
   "language": "python",
   "name": "python3"
  },
  "language_info": {
   "codemirror_mode": {
    "name": "ipython",
    "version": 2
   },
   "file_extension": ".py",
   "mimetype": "text/x-python",
   "name": "python",
   "nbconvert_exporter": "python",
   "pygments_lexer": "ipython2",
   "version": "2.7.6"
  }
 },
 "nbformat": 4,
 "nbformat_minor": 0
}